{
 "cells": [
  {
   "cell_type": "code",
   "execution_count": 1,
   "metadata": {},
   "outputs": [],
   "source": [
    "from bs4 import BeautifulSoup\n",
    "\n",
    "f=open('colors.html','r')\n",
    "\n",
    "html=f.read()\n",
    "\n",
    "f.close()\n"
   ]
  },
  {
   "cell_type": "code",
   "execution_count": 2,
   "metadata": {},
   "outputs": [],
   "source": [
    "soup = BeautifulSoup(html,'html.parser')"
   ]
  },
  {
   "cell_type": "code",
   "execution_count": 6,
   "metadata": {},
   "outputs": [
    {
     "name": "stdout",
     "output_type": "stream",
     "text": [
      "Written 142 lines\n"
     ]
    }
   ],
   "source": [
    "table = soup.find('table','ws-table-all')\n",
    "# print(table)\n",
    "# colors = [td.h2.text.replace(\"Colors\",\"\") for td in table.findAll('td',attrs={'colspan':True})]\n",
    "# print(colors)\n",
    "trs = table.findAll('tr')\n",
    "# print(tr)\n",
    "\n",
    "group = ''\n",
    "f = open('colors.csv','w')\n",
    "f.write('name,hex,red,green,blue,group\\n')\n",
    "record_count=1\n",
    "for row in trs:\n",
    "    tds = row.findAll('td')\n",
    "    # print(tds,len(tds))\n",
    "    if len(tds) == 1:\n",
    "        group=tds[0].text.split()[0]\n",
    "    elif len(tds)==5:\n",
    "        # print(group,tds[1].text)\n",
    "        hex_code = tds[1].text\n",
    "        f.write(f\"{tds[0].text.strip()}, {hex_code}, {int(hex_code[1:3],16)}, {int(hex_code[3:5],16)}, {int(hex_code[5:7],16)}, {group}\\n\")\n",
    "        record_count+=1\n",
    "\n",
    "f.close()\n",
    "print('Written',record_count,'lines')\n"
   ]
  },
  {
   "cell_type": "code",
   "execution_count": null,
   "metadata": {},
   "outputs": [],
   "source": []
  }
 ],
 "metadata": {
  "interpreter": {
   "hash": "31f2aee4e71d21fbe5cf8b01ff0e069b9275f58929596ceb00d14d90e3e16cd6"
  },
  "kernelspec": {
   "display_name": "Python 3.8.10 64-bit",
   "language": "python",
   "name": "python3"
  },
  "language_info": {
   "codemirror_mode": {
    "name": "ipython",
    "version": 3
   },
   "file_extension": ".py",
   "mimetype": "text/x-python",
   "name": "python",
   "nbconvert_exporter": "python",
   "pygments_lexer": "ipython3",
   "version": "3.8.10"
  },
  "orig_nbformat": 4
 },
 "nbformat": 4,
 "nbformat_minor": 2
}
