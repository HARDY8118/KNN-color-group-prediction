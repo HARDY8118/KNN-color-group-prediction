{
 "cells": [
  {
   "cell_type": "markdown",
   "metadata": {},
   "source": []
  },
  {
   "cell_type": "code",
   "execution_count": 65,
   "metadata": {},
   "outputs": [],
   "source": [
    "import tensorflow as tf\n",
    "import csv\n",
    "import random\n",
    "from collections import Counter"
   ]
  },
  {
   "cell_type": "code",
   "execution_count": 66,
   "metadata": {},
   "outputs": [],
   "source": [
    "groups = ['Pink','Purple','Red','Orange','Yellow','Green','Cyan','Blue','Brown','White',\"Grey\"]\n",
    "\n",
    "data=[]\n",
    "\n",
    "with open('colors.csv','r') as f:\n",
    "    reader = csv.reader(f,delimiter=',')\n",
    "    next(reader) # Skip headings\n",
    "    for row in reader:\n",
    "        # print(row)\n",
    "        data.append([int(row[2].strip()),int(row[3].strip()),int(row[4].strip()),groups.index(row[-1].strip())])\n",
    "\n",
    "# print(data)\n",
    "random.shuffle(data)\n",
    "data_tensor = tf.constant(data)\n",
    "# print(data_tensor)\n"
   ]
  },
  {
   "cell_type": "markdown",
   "metadata": {},
   "source": [
    "Groups reference taken from [https://www.w3schools.com/colors/colors_groups.asp](https://www.w3schools.com/colors/colors_groups.asp)"
   ]
  },
  {
   "cell_type": "code",
   "execution_count": 67,
   "metadata": {},
   "outputs": [],
   "source": [
    "def from_hex(h):\n",
    "    h=str(h)\n",
    "    start_index = 0\n",
    "    if h[0] == '#':\n",
    "        start_index = 1\n",
    "    return [\n",
    "        int(h[start_index:start_index+2],16),\n",
    "        int(h[start_index+2:start_index+4],16),\n",
    "        int(h[start_index+4:start_index+6],16)\n",
    "    ]"
   ]
  },
  {
   "cell_type": "code",
   "execution_count": 69,
   "metadata": {},
   "outputs": [
    {
     "name": "stdout",
     "output_type": "stream",
     "text": [
      "White\n",
      "Grey\n",
      "Cyan\n"
     ]
    }
   ],
   "source": [
    "def KNN(dataset, color ,k=5, sample_size=None, test_size=None):\n",
    "    if type(color) == str:\n",
    "        color = from_hex(color)\n",
    "    if type(color) == list:\n",
    "        color = tf.constant(color)\n",
    "    # print(color)\n",
    "\n",
    "    features = tf.gather(dataset,[0,1,2],axis=1)\n",
    "    labels = tf.gather(dataset,[3],axis=1)\n",
    "\n",
    "    diff = (features - color)\n",
    "    # print(diff)\n",
    "    diff_squared = diff**2\n",
    "    # print(diff_squared)\n",
    "    sums = tf.reduce_sum(diff_squared,axis=1)\n",
    "    # print(sums.shape)\n",
    "    sums = tf.reshape(sums,[-1,1])\n",
    "    # print(sums.shape)\n",
    "    # print(sums)\n",
    "    diff_squared_sum = tf.concat([sums,labels],axis=1)\n",
    "    # print(diff_squared_sum)\n",
    "    diff_squared_sum_sorted = sorted(diff_squared_sum.numpy().tolist(),key=lambda r:r[0])\n",
    "    # print(diff_squared_sum_sorted)\n",
    "\n",
    "    top_k = [_[1] for _ in diff_squared_sum_sorted[:k]]\n",
    "    # print(top_k)\n",
    "    \n",
    "    most_frequent = Counter(top_k).most_common(1) # get 1 of most frequent\n",
    "\n",
    "    return most_frequent[0][0]\n",
    "\n",
    "\n",
    "print(groups[KNN(data_tensor,tf.constant([246,234,254]),5)])\n",
    "print(groups[KNN(data_tensor,[1,1,1],5)])\n",
    "print(groups[KNN(data_tensor,from_hex('#40E0D0'))])"
   ]
  },
  {
   "cell_type": "code",
   "execution_count": null,
   "metadata": {},
   "outputs": [],
   "source": []
  }
 ],
 "metadata": {
  "interpreter": {
   "hash": "e160e316561adaade8ab380b2a8c96266680227d0c8770055b863553cabb8062"
  },
  "kernelspec": {
   "display_name": "Python 3.8.10 ('venv': venv)",
   "language": "python",
   "name": "python3"
  },
  "language_info": {
   "codemirror_mode": {
    "name": "ipython",
    "version": 3
   },
   "file_extension": ".py",
   "mimetype": "text/x-python",
   "name": "python",
   "nbconvert_exporter": "python",
   "pygments_lexer": "ipython3",
   "version": "3.8.10"
  },
  "orig_nbformat": 4
 },
 "nbformat": 4,
 "nbformat_minor": 2
}
